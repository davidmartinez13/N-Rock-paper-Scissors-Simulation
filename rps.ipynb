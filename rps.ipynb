{
 "metadata": {
  "language_info": {
   "codemirror_mode": {
    "name": "ipython",
    "version": 3
   },
   "file_extension": ".py",
   "mimetype": "text/x-python",
   "name": "python",
   "nbconvert_exporter": "python",
   "pygments_lexer": "ipython3",
   "version": "3.6.9-final"
  },
  "orig_nbformat": 2,
  "kernelspec": {
   "name": "python36964bitb428fe6a109a4b9e91e330dbea623220",
   "display_name": "Python 3.6.9 64-bit"
  }
 },
 "nbformat": 4,
 "nbformat_minor": 2,
 "cells": [
  {
   "cell_type": "code",
   "execution_count": 1,
   "metadata": {
    "tags": []
   },
   "outputs": [
    {
     "output_type": "stream",
     "name": "stdout",
     "text": [
      "Player A won 170256 games\nPlayer B won 659947 games\nTies: 169797\n"
     ]
    }
   ],
   "source": [
    "import random\n",
    "import numpy as np\n",
    "def simulate(N,PLAYER_A,PLAYER_B):\n",
    "    #create arrays of size N with numbers where paper=1, scissors=2, rock=3 according to the given probability distribution\n",
    "    paper1=np.uint8(np.zeros(int(PLAYER_A['paper']*N))+1)\n",
    "    scissors1=np.uint8(np.zeros(int(PLAYER_A['scissors']*N))+2)\n",
    "    rock1=np.uint8(np.zeros(int(PLAYER_A['rock']*N))+3)\n",
    "    join1=np.uint8(np.concatenate((paper1,scissors1,rock1)))\n",
    "    #shuffle numbers\n",
    "    np.random.shuffle(join1)\n",
    "    #create arrays of size N with numbers where paper=1, scissors=2, rock=3 according to the given probability distribution\n",
    "    paper2=np.uint8(np.zeros(int(PLAYER_B['paper']*N))+1)\n",
    "    scissors2=np.uint8(np.zeros(int(PLAYER_B['scissors']*N))+2)\n",
    "    rock2=np.uint8(np.zeros(int(PLAYER_B['rock']*N))+3)\n",
    "    join2=np.uint8(np.concatenate((paper2,scissors2,rock2)))\n",
    "    #shuffle numbers\n",
    "    np.random.shuffle(join2)\n",
    "    #count number of ties, wins for A, B by comparing with where function and obtaining lenght of result array\n",
    "    ties= len(np.where(join1==join2)[0])\n",
    "    winA= len(np.where((join1==1)& (join2==3))[0])+len(np.where((join1==2)& (join2==1))[0])+len(np.where((join1==3)& (join2==2))[0])\n",
    "    winB=len(np.where((join2==1)& (join1==3))[0])+len(np.where((join2==2)& (join1==1))[0])+len(np.where((join2==3)& (join1==2))[0])\n",
    "    # print result\n",
    "    print(\"Player A won\",winA,\"games\")\n",
    "    print(\"Player B won\",winB,\"games\")\n",
    "    print(\"Ties:\",ties)\n",
    "\n",
    "\n",
    "mode= input(\"Enter 1 for testcase1, enter 2 for testcase2, enter 3 for custom case.\")\n",
    "if mode== '1':\n",
    "    N = 1000\n",
    "    PLAYER_A = {\n",
    "        \"paper\": 0.8,\n",
    "        \"scissors\": 0.1,\n",
    "        \"rock\": 0.1,\n",
    "        }\n",
    "    PLAYER_B = {\n",
    "        \"paper\": 0.1,\n",
    "        \"scissors\": 0.8,\n",
    "        \"rock\": 0.1,\n",
    "        }\n",
    "    simulate(N,PLAYER_A,PLAYER_B)\n",
    "elif mode == '2':\n",
    "    N = 100\n",
    "    PLAYER_A = {\n",
    "        \"paper\": 0,\n",
    "        \"scissors\": 1,\n",
    "        \"rock\": 0,\n",
    "    }\n",
    "    \n",
    "    PLAYER_B = {\n",
    "        \"paper\": 0,\n",
    "        \"scissors\": 0,\n",
    "        \"rock\": 1,\n",
    "    }\n",
    "    simulate(N,PLAYER_A,PLAYER_B)\n",
    "elif mode =='3':\n",
    "    N = int(input(\"Enter number of games:\"))\n",
    "    p1= float(input(\"Enter probability of paper for player1:\"))\n",
    "    s1= float(input(\"Enter probability of scissors for player1:\"))\n",
    "    r1= float(input(\"Enter probability of rock for player1:\"))\n",
    "\n",
    "    p2= float(input(\"Enter probability of paper for player2:\"))\n",
    "    s2= float(input(\"Enter probability of scissors for player2:\"))\n",
    "    r2= float(input(\"Enter probability of rock for player2:\"))\n",
    "\n",
    "    PLAYER_A = {\n",
    "        \"paper\": p1,\n",
    "        \"scissors\": s1,\n",
    "        \"rock\": r1,\n",
    "    }\n",
    "    \n",
    "    PLAYER_B = {\n",
    "        \"paper\": p2,\n",
    "        \"scissors\": s2,\n",
    "        \"rock\": r2,\n",
    "    }\n",
    "    simulate(N,PLAYER_A,PLAYER_B)\n",
    "\n",
    "    \n",
    "\n"
   ]
  },
  {
   "cell_type": "code",
   "execution_count": null,
   "metadata": {},
   "outputs": [],
   "source": []
  }
 ]
}